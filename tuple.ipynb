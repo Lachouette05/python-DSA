{
 "cells": [
  {
   "cell_type": "code",
   "execution_count": 1,
   "id": "b95c8378-dfe4-49e8-9c36-6c392e17aead",
   "metadata": {},
   "outputs": [
    {
     "name": "stdout",
     "output_type": "stream",
     "text": [
      "3\n"
     ]
    }
   ],
   "source": [
    "#créer un tuple\n",
    "t = ('bread','milk','eggs')\n",
    "print(len(t))"
   ]
  },
  {
   "cell_type": "code",
   "execution_count": 2,
   "id": "2d77ff8c-60f4-4bfd-a9fe-e4fcf4f73803",
   "metadata": {},
   "outputs": [
    {
     "ename": "AttributeError",
     "evalue": "'tuple' object has no attribute 'append'",
     "output_type": "error",
     "traceback": [
      "\u001b[1;31m---------------------------------------------------------------------------\u001b[0m",
      "\u001b[1;31mAttributeError\u001b[0m                            Traceback (most recent call last)",
      "\u001b[1;32m<ipython-input-2-24b3d64214b3>\u001b[0m in \u001b[0;36m<module>\u001b[1;34m\u001b[0m\n\u001b[1;32m----> 1\u001b[1;33m \u001b[0mt\u001b[0m\u001b[1;33m.\u001b[0m\u001b[0mappend\u001b[0m\u001b[1;33m(\u001b[0m\u001b[1;34m'apple'\u001b[0m\u001b[1;33m)\u001b[0m\u001b[1;33m\u001b[0m\u001b[1;33m\u001b[0m\u001b[0m\n\u001b[0m",
      "\u001b[1;31mAttributeError\u001b[0m: 'tuple' object has no attribute 'append'"
     ]
    }
   ],
   "source": [
    "t.append('apple')"
   ]
  },
  {
   "cell_type": "code",
   "execution_count": 3,
   "id": "8e77607e-1714-4642-a1a0-e37c84da86ab",
   "metadata": {},
   "outputs": [
    {
     "ename": "TypeError",
     "evalue": "'tuple' object does not support item assignment",
     "output_type": "error",
     "traceback": [
      "\u001b[1;31m---------------------------------------------------------------------------\u001b[0m",
      "\u001b[1;31mTypeError\u001b[0m                                 Traceback (most recent call last)",
      "\u001b[1;32m<ipython-input-3-190718a1298c>\u001b[0m in \u001b[0;36m<module>\u001b[1;34m\u001b[0m\n\u001b[1;32m----> 1\u001b[1;33m \u001b[0mt\u001b[0m\u001b[1;33m[\u001b[0m\u001b[1;36m2\u001b[0m\u001b[1;33m]\u001b[0m \u001b[1;33m=\u001b[0m \u001b[1;34m'apple'\u001b[0m\u001b[1;33m\u001b[0m\u001b[1;33m\u001b[0m\u001b[0m\n\u001b[0m",
      "\u001b[1;31mTypeError\u001b[0m: 'tuple' object does not support item assignment"
     ]
    }
   ],
   "source": [
    "t[2] = 'apple'"
   ]
  },
  {
   "cell_type": "code",
   "execution_count": 4,
   "id": "d6251400-858e-45a5-a976-7a06d3e227ca",
   "metadata": {},
   "outputs": [
    {
     "name": "stdout",
     "output_type": "stream",
     "text": [
      "('bread', 'milk', 'eggs', 'apple', 'orange')\n",
      "('bread', 'milk', 'eggs')\n"
     ]
    }
   ],
   "source": [
    "print(t + ('apple','orange'))\n",
    "print(t)"
   ]
  },
  {
   "cell_type": "code",
   "execution_count": 5,
   "id": "5800cfb1-f892-440a-a5a0-19a787f13c58",
   "metadata": {},
   "outputs": [
    {
     "name": "stdout",
     "output_type": "stream",
     "text": [
      "('apple', True, 3)\n",
      "(('apple', 3), ('orange', 4), ('banana', 5))\n"
     ]
    }
   ],
   "source": [
    "t_mixed = 'apple', True,3\n",
    "print(t_mixed)\n",
    "t_shopping = ('apple',3),('orange',4),('banana',5)\n",
    "print(t_shopping)"
   ]
  },
  {
   "cell_type": "code",
   "execution_count": null,
   "id": "533fed61-5875-4f39-9e7f-485ceb1cbb5f",
   "metadata": {},
   "outputs": [],
   "source": []
  }
 ],
 "metadata": {
  "kernelspec": {
   "display_name": "Python 3",
   "language": "python",
   "name": "python3"
  },
  "language_info": {
   "codemirror_mode": {
    "name": "ipython",
    "version": 3
   },
   "file_extension": ".py",
   "mimetype": "text/x-python",
   "name": "python",
   "nbconvert_exporter": "python",
   "pygments_lexer": "ipython3",
   "version": "3.8.8"
  }
 },
 "nbformat": 4,
 "nbformat_minor": 5
}
