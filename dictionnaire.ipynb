{
 "cells": [
  {
   "cell_type": "code",
   "execution_count": 1,
   "id": "1cd2bb61-212c-46ac-aade-7bca70ebb773",
   "metadata": {},
   "outputs": [],
   "source": [
    "#création du dictionnaire\n",
    "movie = {\n",
    "    \"title\" : \"Spider Man\",\n",
    "    \"director\" : \"Stan Lee\",\n",
    "    \"year\" : 2021,\n",
    "    \"rating\" : 9.9\n",
    "}"
   ]
  },
  {
   "cell_type": "code",
   "execution_count": 2,
   "id": "3bd6772a-f697-4518-be6c-187ac54952c4",
   "metadata": {},
   "outputs": [
    {
     "name": "stdout",
     "output_type": "stream",
     "text": [
      "2021\n"
     ]
    }
   ],
   "source": [
    "#affichons l'année de publication\n",
    "print(movie['year'])"
   ]
  },
  {
   "cell_type": "code",
   "execution_count": 3,
   "id": "027336e8-6620-4332-94b9-5059e272cec8",
   "metadata": {},
   "outputs": [
    {
     "name": "stdout",
     "output_type": "stream",
     "text": [
      "9.600000000000001\n"
     ]
    }
   ],
   "source": [
    "#modifions une valeur du dictionnaire\n",
    "movie['rating'] = (movie['rating'] + 9.3)/2\n",
    "print(movie['rating'])"
   ]
  },
  {
   "cell_type": "code",
   "execution_count": 4,
   "id": "1856608c-2d9f-4a90-af0d-41ed0518322a",
   "metadata": {},
   "outputs": [],
   "source": [
    "#construisons un dictionnaire à partir de zero\n",
    "movie = {}\n",
    "#ajoutons les valeurs au fur et à mesure\n",
    "movie['title'] = \"Jujutsu Kaisen\"\n",
    "movie['director'] = \"Akutami Gege\"\n",
    "movie['year'] = 2020\n",
    "movie['rating'] = 10"
   ]
  },
  {
   "cell_type": "code",
   "execution_count": 5,
   "id": "58c071c6-8c04-4e78-9e53-c9c4eafd6d9d",
   "metadata": {},
   "outputs": [
    {
     "name": "stdout",
     "output_type": "stream",
     "text": [
      "{'title': 'Jujutsu Kaisen', 'director': 'Akutami Gege', 'year': 2020, 'rating': 10}\n"
     ]
    }
   ],
   "source": [
    "print(movie)"
   ]
  },
  {
   "cell_type": "code",
   "execution_count": 6,
   "id": "518dce56-15cb-4e70-9c80-2442641585c0",
   "metadata": {},
   "outputs": [],
   "source": [
    "#les dictionnaires ont des tailles flexibles tout comme les listes"
   ]
  },
  {
   "cell_type": "code",
   "execution_count": 7,
   "id": "0673577a-672c-4aba-808f-f599beec70e4",
   "metadata": {},
   "outputs": [
    {
     "name": "stdout",
     "output_type": "stream",
     "text": [
      "{'title': 'Jujutsu Kaisen', 'director': 'Akutami Gege', 'year': 2020, 'rating': 10, 'actors': ['Gojo Satoru', 'Itadori Yuji', 'Yuta Okkotsu', 'Ryomen Sukuna'], 'other_details': {'runtime': 175, 'language': 'English'}}\n"
     ]
    }
   ],
   "source": [
    "#on peut stocker des listes dans un dictionnaire, également des dictionnaires aussi\n",
    "movie['actors'] = ['Gojo Satoru','Itadori Yuji','Yuta Okkotsu','Ryomen Sukuna']\n",
    "movie['other_details'] = {\n",
    "    'runtime' : 175,\n",
    "    'language' : 'English'\n",
    "}\n",
    "print(movie)"
   ]
  },
  {
   "cell_type": "code",
   "execution_count": 8,
   "id": "d67128a2-d3d3-4b07-93d6-f61541e79b2c",
   "metadata": {},
   "outputs": [],
   "source": [
    "#en combinant les listes et les dictionnaires on peut stocker des données complexes"
   ]
  },
  {
   "cell_type": "code",
   "execution_count": 9,
   "id": "fbd2778a-ade6-4d97-9248-87b5bb634526",
   "metadata": {},
   "outputs": [
    {
     "name": "stdout",
     "output_type": "stream",
     "text": [
      "[['John Mckee', 38, 'Sales'], ['Lisa Crawford', 29, 'Marketing'], ['Sujan Patel', 33, 'HR']]\n"
     ]
    }
   ],
   "source": [
    "#on va stocker les données des employées dans des listes et des dictionnaires\n",
    "#1-liste\n",
    "employees = [\n",
    "    ['John Mckee',38,'Sales'],\n",
    "    ['Lisa Crawford',29,'Marketing'],\n",
    "    ['Sujan Patel',33,'HR']\n",
    "]\n",
    "\n",
    "print(employees)"
   ]
  },
  {
   "cell_type": "code",
   "execution_count": 13,
   "id": "c2c7951e-5402-485e-a63c-92d3f206c2c0",
   "metadata": {},
   "outputs": [
    {
     "name": "stdout",
     "output_type": "stream",
     "text": [
      "[{'Name': 'John Doe', 'Age': 30, 'Departement': 'Sales'}, {'Name': 'Jane X', 'Age': 20, 'Departement': 'IT'}, {'Name': 'Sam Cepiol', 'Age': 22, 'Departement': 'Security'}]\n"
     ]
    }
   ],
   "source": [
    "employees_2 = [\n",
    "    {\"Name\" : \"John Doe\",\"Age\" : 30,\"Departement\" : \"Sales\"},\n",
    "    {\"Name\" : \"Jane X\",\"Age\" : 20,\"Departement\" : \"IT\"},\n",
    "    {\"Name\" : \"Sam Cepiol\",\"Age\" : 22,\"Departement\" : \"Security\"}\n",
    "]\n",
    "print(employees_2)"
   ]
  },
  {
   "cell_type": "code",
   "execution_count": 15,
   "id": "321ccfc9-c1d3-46ce-891e-3bd7dd3cc3f5",
   "metadata": {},
   "outputs": [
    {
     "name": "stdout",
     "output_type": "stream",
     "text": [
      "Name:  John Doe\n",
      "Age:  30\n",
      "Dept.:  Sales\n",
      "--------------------\n",
      "Name:  Jane X\n",
      "Age:  20\n",
      "Dept.:  IT\n",
      "--------------------\n",
      "Name:  Sam Cepiol\n",
      "Age:  22\n",
      "Dept.:  Security\n",
      "--------------------\n"
     ]
    }
   ],
   "source": [
    "#affichons les employées\n",
    "for employee in employees_2:\n",
    "    print(\"Name: \",employee['Name'])\n",
    "    print(\"Age: \",employee['Age'])\n",
    "    print(\"Dept.: \",employee['Departement'])\n",
    "    print(\"-\"*20)"
   ]
  },
  {
   "cell_type": "code",
   "execution_count": 16,
   "id": "a2dde7d2-3716-4a0e-8b92-fb1e826de466",
   "metadata": {},
   "outputs": [
    {
     "name": "stdout",
     "output_type": "stream",
     "text": [
      "{'Name': 'Jane X', 'Age': 20, 'Departement': 'IT'}\n"
     ]
    }
   ],
   "source": [
    "print(employees_2[1])"
   ]
  },
  {
   "cell_type": "code",
   "execution_count": 18,
   "id": "fe83a6c4-4695-4ea7-a52c-6748f141fef3",
   "metadata": {},
   "outputs": [
    {
     "name": "stdout",
     "output_type": "stream",
     "text": [
      "Name:  Jane X\n",
      "Age:  20\n",
      "Dept:  IT\n"
     ]
    }
   ],
   "source": [
    "#affichons les infos de Cepiol\n",
    "print(\"Name: \",employees_2[1]['Name'])\n",
    "print(\"Age: \",employees_2[1]['Age'])\n",
    "print(\"Dept: \",employees_2[1]['Departement'])"
   ]
  },
  {
   "cell_type": "code",
   "execution_count": 19,
   "id": "d9a61c82-2de4-4a32-b38d-b09bc329f3db",
   "metadata": {},
   "outputs": [
    {
     "name": "stdout",
     "output_type": "stream",
     "text": [
      "Name:  Sam Cepiol\n",
      "Age:  22\n",
      "Dept:  Security\n",
      "--------------------\n"
     ]
    }
   ],
   "source": [
    "#MIEUX\n",
    "for employee in employees_2:\n",
    "    if employee[\"Name\"] == \"Sam Cepiol\":\n",
    "        print(\"Name: \",employee[\"Name\"])\n",
    "        print(\"Age: \",employee[\"Age\"])\n",
    "        print(\"Dept: \",employee[\"Departement\"])\n",
    "        print(\"-\"*20)"
   ]
  },
  {
   "cell_type": "code",
   "execution_count": 20,
   "id": "e124a838-3ffd-4adc-92a3-3217cd938241",
   "metadata": {},
   "outputs": [
    {
     "name": "stdout",
     "output_type": "stream",
     "text": [
      "<zip object at 0x0000025960962C40>\n"
     ]
    }
   ],
   "source": [
    "#Lorsque nous recevons les données de sources multiples et que nous voulons rassembler, on utilise la méthode zip()\n",
    "items = ['Apple','Orange','Banana']\n",
    "qty = [5,8,7]\n",
    "#ici nous avons une liste de produits et une pour les qtés de ces derniers. nous voulons attribuer à chaque produit une qté\n",
    "orders = zip(items,qty)\n",
    "print(orders)"
   ]
  },
  {
   "cell_type": "code",
   "execution_count": 21,
   "id": "11f079a3-9101-485f-b29f-6b6a91250e5b",
   "metadata": {},
   "outputs": [
    {
     "name": "stdout",
     "output_type": "stream",
     "text": [
      "[('Apple', 5), ('Orange', 8), ('Banana', 7)]\n"
     ]
    }
   ],
   "source": [
    "print(list(orders))"
   ]
  },
  {
   "cell_type": "code",
   "execution_count": null,
   "id": "65a2f703-6544-42f7-b88f-740408c4bcac",
   "metadata": {},
   "outputs": [],
   "source": []
  }
 ],
 "metadata": {
  "kernelspec": {
   "display_name": "Python 3",
   "language": "python",
   "name": "python3"
  },
  "language_info": {
   "codemirror_mode": {
    "name": "ipython",
    "version": 3
   },
   "file_extension": ".py",
   "mimetype": "text/x-python",
   "name": "python",
   "nbconvert_exporter": "python",
   "pygments_lexer": "ipython3",
   "version": "3.8.8"
  }
 },
 "nbformat": 4,
 "nbformat_minor": 5
}
